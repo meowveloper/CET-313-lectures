{
 "cells": [
  {
   "cell_type": "code",
   "execution_count": 1,
   "id": "7afbdd4f-0bf3-410b-8ad5-e798486acfd8",
   "metadata": {},
   "outputs": [],
   "source": [
    "import nltk"
   ]
  },
  {
   "cell_type": "code",
   "execution_count": 2,
   "id": "c203af76-3f71-423e-88e5-e4a3a294bce2",
   "metadata": {},
   "outputs": [
    {
     "name": "stderr",
     "output_type": "stream",
     "text": [
      "[nltk_data] Downloading package punkt to /usr/local/share/nltk_data...\n",
      "[nltk_data]   Package punkt is already up-to-date!\n"
     ]
    },
    {
     "data": {
      "text/plain": [
       "True"
      ]
     },
     "execution_count": 2,
     "metadata": {},
     "output_type": "execute_result"
    }
   ],
   "source": [
    "nltk.download('punkt')"
   ]
  },
  {
   "cell_type": "code",
   "execution_count": 3,
   "id": "5e1ff67d-c6d1-4f1f-bcda-45049fcb8179",
   "metadata": {},
   "outputs": [
    {
     "name": "stderr",
     "output_type": "stream",
     "text": [
      "[nltk_data] Downloading package wordnet to\n",
      "[nltk_data]     /usr/local/share/nltk_data...\n",
      "[nltk_data]   Package wordnet is already up-to-date!\n"
     ]
    },
    {
     "data": {
      "text/plain": [
       "True"
      ]
     },
     "execution_count": 3,
     "metadata": {},
     "output_type": "execute_result"
    }
   ],
   "source": [
    "nltk.download('wordnet')"
   ]
  },
  {
   "cell_type": "code",
   "execution_count": 4,
   "id": "57f3835e-04bc-460a-8e5c-65ae6ef83aea",
   "metadata": {},
   "outputs": [
    {
     "name": "stderr",
     "output_type": "stream",
     "text": [
      "[nltk_data] Downloading package stopwords to\n",
      "[nltk_data]     /usr/local/share/nltk_data...\n",
      "[nltk_data]   Package stopwords is already up-to-date!\n"
     ]
    },
    {
     "data": {
      "text/plain": [
       "True"
      ]
     },
     "execution_count": 4,
     "metadata": {},
     "output_type": "execute_result"
    }
   ],
   "source": [
    "nltk.download('stopwords')"
   ]
  },
  {
   "cell_type": "code",
   "execution_count": 5,
   "id": "c976cab4-cc75-48a2-b322-e4ad8cae409d",
   "metadata": {},
   "outputs": [],
   "source": [
    "from nltk.corpus import stopwords"
   ]
  },
  {
   "cell_type": "code",
   "execution_count": 7,
   "id": "ab40515b-921b-40c0-87c9-251044bae011",
   "metadata": {},
   "outputs": [],
   "source": [
    "from nltk.tokenize import word_tokenize"
   ]
  },
  {
   "cell_type": "code",
   "execution_count": 8,
   "id": "196136e8-1e4a-40ff-a9de-782f27b40b24",
   "metadata": {},
   "outputs": [],
   "source": [
    "import string"
   ]
  },
  {
   "cell_type": "code",
   "execution_count": 11,
   "id": "483f3bfc-1788-4475-9174-aee0534c3fba",
   "metadata": {},
   "outputs": [],
   "source": [
    "text = \"This is a simple example of text preprocessing. It involves cleaning and organizing raw text data into a format suitable for analysis.\""
   ]
  },
  {
   "cell_type": "code",
   "execution_count": 12,
   "id": "3b924c0f-5265-430f-ae35-4362e30443be",
   "metadata": {},
   "outputs": [
    {
     "name": "stdout",
     "output_type": "stream",
     "text": [
      "lower case Text: \n",
      "this is a simple example of text preprocessing. it involves cleaning and organizing raw text data into a format suitable for analysis.\n"
     ]
    }
   ],
   "source": [
    "# exercise 5\n",
    "text = text.lower()\n",
    "print(\"lower case Text: \")\n",
    "print(text)"
   ]
  },
  {
   "cell_type": "code",
   "execution_count": 13,
   "id": "c582c920-c350-4a69-ae56-ac381ff60059",
   "metadata": {},
   "outputs": [
    {
     "name": "stdout",
     "output_type": "stream",
     "text": [
      "Removed punctuation : \n",
      "this is a simple example of text preprocessing it involves cleaning and organizing raw text data into a format suitable for analysis\n"
     ]
    }
   ],
   "source": [
    "# exercise 6\n",
    "text = text.translate(str.maketrans('', '', string.punctuation))\n",
    "print(\"Removed punctuation : \")\n",
    "print(text)"
   ]
  },
  {
   "cell_type": "code",
   "execution_count": 14,
   "id": "ec2bde44-3629-4588-8821-45e85e31d098",
   "metadata": {},
   "outputs": [
    {
     "name": "stdout",
     "output_type": "stream",
     "text": [
      "All tokens: \n",
      "['this', 'is', 'a', 'simple', 'example', 'of', 'text', 'preprocessing', 'it', 'involves', 'cleaning', 'and', 'organizing', 'raw', 'text', 'data', 'into', 'a', 'format', 'suitable', 'for', 'analysis']\n"
     ]
    }
   ],
   "source": [
    "# exercise 7\n",
    "# Tokenization\n",
    "tokens = word_tokenize(text)\n",
    "print(\"All tokens: \")\n",
    "print(tokens)"
   ]
  },
  {
   "cell_type": "code",
   "execution_count": 18,
   "id": "05e7cd93-e305-4b05-8351-50a944674167",
   "metadata": {},
   "outputs": [
    {
     "name": "stdout",
     "output_type": "stream",
     "text": [
      "\n",
      "After Text Preprocessing: \n",
      "['simple', 'example', 'text', 'preprocessing', 'involves', 'cleaning', 'organizing', 'raw', 'text', 'data', 'format', 'suitable', 'analysis']\n"
     ]
    }
   ],
   "source": [
    "# exercise 8 \n",
    "stop_words = set(stopwords.words('english'))\n",
    "filtered_tokens = [word for word in tokens if word not in stop_words]\n",
    "print(\"\\nAfter Text Preprocessing: \")\n",
    "print(filtered_tokens)"
   ]
  },
  {
   "cell_type": "code",
   "execution_count": 20,
   "id": "b7736239-6186-44d9-8c50-2333af30ec8d",
   "metadata": {},
   "outputs": [
    {
     "name": "stdout",
     "output_type": "stream",
     "text": [
      "lower case Text: \n",
      "another another another text\n",
      "Removed punctuation : \n",
      "another another another text\n",
      "All tokens: \n",
      "['another', 'another', 'another', 'text']\n",
      "\n",
      "After Text Preprocessing: \n",
      "['another', 'another', 'another', 'text']\n"
     ]
    }
   ],
   "source": [
    "#exercise 9 \n",
    "    # lower case\n",
    "text2 = \"another another another text\"\n",
    "text2 = text2.lower()\n",
    "print(\"lower case Text: \")\n",
    "print(text2)\n",
    "\n",
    "    # remove punc\n",
    "text2 = text2.translate(str.maketrans('', '', string.punctuation))\n",
    "print(\"Removed punctuation : \")\n",
    "print(text2)\n",
    "\n",
    "    # tokenize\n",
    "tokens2 = word_tokenize(text2)\n",
    "print(\"All tokens: \")\n",
    "print(tokens2)\n",
    "\n",
    "    # preprocess\n",
    "stop_words2 = set(stopwords.words('english'))\n",
    "filtered_tokens2 = [word for word in tokens2 if word not in stop_words]\n",
    "print(\"\\nAfter Text Preprocessing: \")\n",
    "print(filtered_tokens2)"
   ]
  },
  {
   "cell_type": "code",
   "execution_count": 23,
   "id": "3fa0e464-407e-4158-89c6-dbc2f502c4bf",
   "metadata": {},
   "outputs": [
    {
     "name": "stdout",
     "output_type": "stream",
     "text": [
      "Hello world!!\n",
      "This is the traditional and most common method for syncing code during development. With a bind mount, you link a specific directory on your host machine to a directory inside the container. Any changes made to the files in that directory on either side are reflected in real-time.\n",
      "\n",
      "\n",
      "lower case Text: \n",
      "another another another text\n",
      "Removed punctuation : \n",
      "hello world\n",
      "this is the traditional and most common method for syncing code during development with a bind mount you link a specific directory on your host machine to a directory inside the container any changes made to the files in that directory on either side are reflected in realtime\n",
      "\n",
      "\n",
      "All tokens: \n",
      "['hello', 'world', 'this', 'is', 'the', 'traditional', 'and', 'most', 'common', 'method', 'for', 'syncing', 'code', 'during', 'development', 'with', 'a', 'bind', 'mount', 'you', 'link', 'a', 'specific', 'directory', 'on', 'your', 'host', 'machine', 'to', 'a', 'directory', 'inside', 'the', 'container', 'any', 'changes', 'made', 'to', 'the', 'files', 'in', 'that', 'directory', 'on', 'either', 'side', 'are', 'reflected', 'in', 'realtime']\n",
      "\n",
      "After Text Preprocessing: \n",
      "['hello', 'world', 'traditional', 'common', 'method', 'syncing', 'code', 'development', 'bind', 'mount', 'link', 'specific', 'directory', 'host', 'machine', 'directory', 'inside', 'container', 'changes', 'made', 'files', 'directory', 'either', 'side', 'reflected', 'realtime']\n"
     ]
    }
   ],
   "source": [
    "# exercise 10\n",
    "with open('some-texts.txt') as f:\n",
    "    text3 = f.read()\n",
    "print(text3)\n",
    "\n",
    "    # lower case\n",
    "text3 = text3.lower()\n",
    "print(\"lower case Text: \")\n",
    "print(text2)\n",
    "\n",
    "    # remove punc\n",
    "text3 = text3.translate(str.maketrans('', '', string.punctuation))\n",
    "print(\"Removed punctuation : \")\n",
    "print(text3)\n",
    "\n",
    "    # tokenize\n",
    "tokens3 = word_tokenize(text3)\n",
    "print(\"All tokens: \")\n",
    "print(tokens3)\n",
    "\n",
    "    # preprocess\n",
    "stop_words3 = set(stopwords.words('english'))\n",
    "filtered_tokens3 = [word for word in tokens3 if word not in stop_words]\n",
    "print(\"\\nAfter Text Preprocessing: \")\n",
    "print(filtered_tokens3)"
   ]
  },
  {
   "cell_type": "code",
   "execution_count": 25,
   "id": "50bce08f-5f3a-4954-9057-cccef9940701",
   "metadata": {},
   "outputs": [
    {
     "name": "stdout",
     "output_type": "stream",
     "text": [
      "Word: cats, Lemma: cat\n",
      "Word: cacti, Lemma: cactus\n",
      "Word: geese, Lemma: goose\n",
      "Word: rocks, Lemma: rock\n",
      "Word: python, Lemma: python\n",
      "Word: better, Lemma: better\n"
     ]
    }
   ],
   "source": [
    "# exercise 12\n",
    "from nltk.stem import WordNetLemmatizer\n",
    "lemmatizer = WordNetLemmatizer()\n",
    "words = ['cats', 'cacti', 'geese', 'rocks', 'python', 'better']\n",
    "for word in words:\n",
    "    print(f\"Word: {word}, Lemma: {lemmatizer.lemmatize(word)}\")"
   ]
  },
  {
   "cell_type": "code",
   "execution_count": 26,
   "id": "3acd9f4e-6487-4171-be01-6d32fee48011",
   "metadata": {},
   "outputs": [
    {
     "name": "stdout",
     "output_type": "stream",
     "text": [
      "Word: hello, Lemma: hello\n",
      "Word: world, Lemma: world\n",
      "Word: traditional, Lemma: traditional\n",
      "Word: common, Lemma: common\n",
      "Word: method, Lemma: method\n",
      "Word: syncing, Lemma: syncing\n",
      "Word: code, Lemma: code\n",
      "Word: development, Lemma: development\n",
      "Word: bind, Lemma: bind\n",
      "Word: mount, Lemma: mount\n",
      "Word: link, Lemma: link\n",
      "Word: specific, Lemma: specific\n",
      "Word: directory, Lemma: directory\n",
      "Word: host, Lemma: host\n",
      "Word: machine, Lemma: machine\n",
      "Word: directory, Lemma: directory\n",
      "Word: inside, Lemma: inside\n",
      "Word: container, Lemma: container\n",
      "Word: changes, Lemma: change\n",
      "Word: made, Lemma: made\n",
      "Word: files, Lemma: file\n",
      "Word: directory, Lemma: directory\n",
      "Word: either, Lemma: either\n",
      "Word: side, Lemma: side\n",
      "Word: reflected, Lemma: reflected\n",
      "Word: realtime, Lemma: realtime\n"
     ]
    }
   ],
   "source": [
    "# exercise 13\n",
    "for word in filtered_tokens3:\n",
    "    print(f\"Word: {word}, Lemma: {lemmatizer.lemmatize(word)}\")"
   ]
  },
  {
   "cell_type": "code",
   "execution_count": null,
   "id": "c19936be-648d-40a6-8cb4-f72ba3845b3e",
   "metadata": {},
   "outputs": [],
   "source": []
  }
 ],
 "metadata": {
  "kernelspec": {
   "display_name": "Python 3 (ipykernel)",
   "language": "python",
   "name": "python3"
  },
  "language_info": {
   "codemirror_mode": {
    "name": "ipython",
    "version": 3
   },
   "file_extension": ".py",
   "mimetype": "text/x-python",
   "name": "python",
   "nbconvert_exporter": "python",
   "pygments_lexer": "ipython3",
   "version": "3.12.7"
  }
 },
 "nbformat": 4,
 "nbformat_minor": 5
}
