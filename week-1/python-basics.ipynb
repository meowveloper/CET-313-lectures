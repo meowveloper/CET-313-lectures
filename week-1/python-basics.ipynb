{
 "cells": [
  {
   "cell_type": "code",
   "execution_count": 1,
   "id": "2d995ced-a013-4bcb-948a-d1db47683114",
   "metadata": {},
   "outputs": [
    {
     "name": "stdout",
     "output_type": "stream",
     "text": [
      "4\n"
     ]
    }
   ],
   "source": [
    "a = 2\n",
    "b = a * a\n",
    "print(b)"
   ]
  },
  {
   "cell_type": "code",
   "execution_count": 2,
   "id": "5b49d328-c6f7-4afa-a85b-31d4fc14de1d",
   "metadata": {},
   "outputs": [
    {
     "name": "stdout",
     "output_type": "stream",
     "text": [
      "Su Su\n"
     ]
    }
   ],
   "source": [
    "name = \"Su Su\"\n",
    "print(name)"
   ]
  },
  {
   "cell_type": "code",
   "execution_count": 6,
   "id": "8e1c5425-d276-40d1-a1eb-b0c7ffed8055",
   "metadata": {},
   "outputs": [
    {
     "name": "stdout",
     "output_type": "stream",
     "text": [
      "Counter is 200\n",
      "Travel is 400.0\n",
      "Name is Kate\n"
     ]
    }
   ],
   "source": [
    "counter = 100\n",
    "miles = 1000\n",
    "name = \"Kate\"\n",
    "count = counter * 2\n",
    "travel = miles / 2.5\n",
    "print(\"Counter is\", count)\n",
    "print(\"Travel is\", travel)\n",
    "print(\"Name is\", name)"
   ]
  },
  {
   "cell_type": "code",
   "execution_count": 7,
   "id": "3422670a-e280-4450-a250-23c1e74b25e6",
   "metadata": {},
   "outputs": [
    {
     "name": "stdout",
     "output_type": "stream",
     "text": [
      "[1, 2, 3]\n",
      "[1, 2, 3, 4, 5, 6]\n",
      "[1, 2, 3, 4, 5, 6, 0]\n"
     ]
    }
   ],
   "source": [
    "z = [1, 2, 3]\n",
    "print(z)\n",
    "z.extend([4, 5, 6])\n",
    "print(z)\n",
    "z.append(0)\n",
    "print(z)"
   ]
  },
  {
   "cell_type": "code",
   "execution_count": 8,
   "id": "9c949fef-c0ae-4347-8725-233acfc23204",
   "metadata": {},
   "outputs": [
    {
     "name": "stdout",
     "output_type": "stream",
     "text": [
      "[1, 2, 3, 4, 5]\n",
      "[4, 2, 3, 1, 5]\n",
      "[1, 2, 3, 4, 5]\n",
      "[4, 2, 3, 1, 5]\n"
     ]
    }
   ],
   "source": [
    "x = [4, 2, 3, 1, 5]\n",
    "print(sorted(x))\n",
    "print(x)\n",
    "y = sorted(x)\n",
    "print(y)\n",
    "print(x)\n",
    "x.sort()"
   ]
  },
  {
   "cell_type": "code",
   "execution_count": 9,
   "id": "5dadf45d-57dc-413a-b7d5-fc4d805f0443",
   "metadata": {},
   "outputs": [
    {
     "name": "stdout",
     "output_type": "stream",
     "text": [
      "3\n"
     ]
    },
    {
     "data": {
      "text/plain": [
       "False"
      ]
     },
     "execution_count": 9,
     "metadata": {},
     "output_type": "execute_result"
    }
   ],
   "source": [
    "integer_list = [1, 2, 3, 4, 5, 6, 7, 8, 9]\n",
    "print(integer_list[2])\n",
    "23 in integer_list"
   ]
  },
  {
   "cell_type": "code",
   "execution_count": null,
   "id": "093f42e5-a126-4888-94aa-7f58f4397f31",
   "metadata": {},
   "outputs": [],
   "source": []
  }
 ],
 "metadata": {
  "kernelspec": {
   "display_name": "Python 3 (ipykernel)",
   "language": "python",
   "name": "python3"
  },
  "language_info": {
   "codemirror_mode": {
    "name": "ipython",
    "version": 3
   },
   "file_extension": ".py",
   "mimetype": "text/x-python",
   "name": "python",
   "nbconvert_exporter": "python",
   "pygments_lexer": "ipython3",
   "version": "3.12.7"
  }
 },
 "nbformat": 4,
 "nbformat_minor": 5
}
