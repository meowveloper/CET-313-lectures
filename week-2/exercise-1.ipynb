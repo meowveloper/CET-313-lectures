{
 "cells": [
  {
   "cell_type": "code",
   "execution_count": 9,
   "id": "e40ae912-1cf1-452d-97b4-5a9a5c99c7d2",
   "metadata": {},
   "outputs": [],
   "source": [
    "import json\n",
    "from kanren import run, facts, eq, Relation, var, conde"
   ]
  },
  {
   "cell_type": "code",
   "execution_count": 10,
   "id": "dfdaa9da-eda3-4f19-8aa2-a3f5ffe0be99",
   "metadata": {},
   "outputs": [],
   "source": [
    "def parent(x,y):\n",
    "    return conde ( [father(x,y)], [mother(x,y)] )"
   ]
  },
  {
   "cell_type": "code",
   "execution_count": 11,
   "id": "fa7d99f4-3c44-44ff-87f2-8dad0c9d7dfa",
   "metadata": {},
   "outputs": [],
   "source": [
    "def grandparent(x,y):\n",
    "    temp = var()\n",
    "    return conde(( parent(x, temp), parent(temp, y) ))"
   ]
  },
  {
   "cell_type": "code",
   "execution_count": 12,
   "id": "b44b36c2-d13d-4114-bd25-3f0c8fcb0cd6",
   "metadata": {},
   "outputs": [],
   "source": [
    "def sibling(x,y):\n",
    "    temp = var()\n",
    "    return conde(( parent(temp, x), parent(temp, y) ))"
   ]
  },
  {
   "cell_type": "code",
   "execution_count": 13,
   "id": "8acd32d1-1683-47f3-8756-fcdd0a1dc74b",
   "metadata": {},
   "outputs": [],
   "source": [
    "def uncle(x,y):\n",
    "    temp = var()\n",
    "    return conde (( father(temp,x), grandparent(temp,y) ))"
   ]
  },
  {
   "cell_type": "code",
   "execution_count": 14,
   "id": "ffaebab5-4bd7-4a72-bb0d-2a2db2d1def5",
   "metadata": {},
   "outputs": [],
   "source": [
    "if __name__ == '__main__':\n",
    "    father = Relation()\n",
    "    mother = Relation()\n",
    "\n",
    "    with open('relationships.json') as f:\n",
    "        d = json.loads(f.read())\n",
    "\n",
    "    for item in d['father']:\n",
    "        facts( father, ( list(item.keys())[0], list(item.values())[0] ) )\n",
    "\n",
    "    for item in d['mother']:\n",
    "        facts( mother, ( list(item.keys())[0], list(item.values())[0] ) )\n",
    "\n",
    "    x = var()"
   ]
  },
  {
   "cell_type": "code",
   "execution_count": 15,
   "id": "afb91e0d-2cb7-4dba-a7d4-9b1e3576e6b5",
   "metadata": {},
   "outputs": [
    {
     "name": "stdout",
     "output_type": "stream",
     "text": [
      "John children are: \n",
      "William\n",
      "David\n",
      "Adam\n"
     ]
    }
   ],
   "source": [
    "name = 'John'\n",
    "output = run(0,x,father(name,x))\n",
    "\n",
    "print(name + ' children are: ')\n",
    "for item in output:\n",
    "    print(item)"
   ]
  },
  {
   "cell_type": "code",
   "execution_count": 16,
   "id": "444534d5-0694-4cc2-8f14-e1990f85d561",
   "metadata": {},
   "outputs": [
    {
     "name": "stdout",
     "output_type": "stream",
     "text": [
      "Sophia\n"
     ]
    }
   ],
   "source": [
    "name = 'Adam'\n",
    "output = run(0,x,parent(name,x))\n",
    "\n",
    "for item in output:\n",
    "    print(item)"
   ]
  },
  {
   "cell_type": "code",
   "execution_count": 17,
   "id": "178bb452-cf88-4918-8f4b-8fc6a4603c33",
   "metadata": {},
   "outputs": [
    {
     "name": "stdout",
     "output_type": "stream",
     "text": [
      "Megan gc are :  ('Sophia', 'Chris', 'Wayne', 'Stephanie', 'Julie', 'Neil', 'Peter', 'Tiffany')\n"
     ]
    }
   ],
   "source": [
    "name = 'Megan'\n",
    "output = run(0,x,grandparent(name,x))\n",
    "\n",
    "print(name + ' gc are : ', output)"
   ]
  },
  {
   "cell_type": "code",
   "execution_count": null,
   "id": "869f2088-8c32-47b7-8f17-5d9c897c5477",
   "metadata": {},
   "outputs": [],
   "source": []
  }
 ],
 "metadata": {
  "kernelspec": {
   "display_name": "Python 3 (ipykernel)",
   "language": "python",
   "name": "python3"
  },
  "language_info": {
   "codemirror_mode": {
    "name": "ipython",
    "version": 3
   },
   "file_extension": ".py",
   "mimetype": "text/x-python",
   "name": "python",
   "nbconvert_exporter": "python",
   "pygments_lexer": "ipython3",
   "version": "3.12.7"
  }
 },
 "nbformat": 4,
 "nbformat_minor": 5
}
